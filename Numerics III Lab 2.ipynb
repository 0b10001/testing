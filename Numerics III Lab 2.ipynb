{
 "cells": [
  {
   "cell_type": "code",
   "execution_count": 21,
   "id": "5fe9fc5c",
   "metadata": {},
   "outputs": [],
   "source": [
    "import scipy.integrate as integrate\n",
    "from math import *\n",
    "from numpy import sqrt, pi\n",
    "from sympy import *\n",
    "init_printing()\n",
    "from IPython.display import display"
   ]
  },
  {
   "cell_type": "code",
   "execution_count": 22,
   "id": "c033f1e4",
   "metadata": {},
   "outputs": [],
   "source": [
    "# Exercise 1"
   ]
  },
  {
   "cell_type": "code",
   "execution_count": 23,
   "id": "663a0ae6",
   "metadata": {},
   "outputs": [],
   "source": [
    "x = symbols('x')\n",
    "func = lambda x: (e**x)\n"
   ]
  },
  {
   "cell_type": "code",
   "execution_count": 24,
   "id": "1422bfa1",
   "metadata": {
    "scrolled": true
   },
   "outputs": [],
   "source": [
    "def T(n,x):\n",
    "    if(n == 0):\n",
    "        return 1\n",
    "    elif (n == 1):\n",
    "        return x\n",
    "    return 2*x *T(n-1,x) - T(n-2,x)"
   ]
  },
  {
   "cell_type": "code",
   "execution_count": 25,
   "id": "5377cbd8",
   "metadata": {},
   "outputs": [],
   "source": [
    "def C(foo,n):\n",
    "    fun = func\n",
    "    if n == 0:\n",
    "        return integrate((1/pi)*fun(x)/(1-x**2)**0.5,(x,-1,1)).evalf(6)\n",
    "    else:\n",
    "        return integrate((2/pi)*fun(x)*T(n,x)/(1-x**2)**0.5,(x,-1,1)).evalf(6)"
   ]
  },
  {
   "cell_type": "code",
   "execution_count": 26,
   "id": "2b7e21e8",
   "metadata": {},
   "outputs": [
    {
     "data": {
      "image/png": "[encoded data removed]",
      "text/latex": [
       "$\\displaystyle 1.13032$"
      ],
      "text/plain": [
       "1.13032"
      ]
     },
     "execution_count": 26,
     "metadata": {},
     "output_type": "execute_result"
    }
   ],
   "source": [
    "C(func,1)"
   ]
  },
  {
   "cell_type": "code",
   "execution_count": 27,
   "id": "beda6bf3",
   "metadata": {},
   "outputs": [],
   "source": [
    "def Chebyshev(f1,n):\n",
    "    print('\\nn\\tCn\\n')\n",
    "    for i in range(n):\n",
    "        print('%d\\t%0.12f\\n' %(i, C(f1,i)))\n",
    "    f = IndexedBase(\"f\")\n",
    "    i = Idx('i')\n",
    "    for i in range(n):\n",
    "        ans = 0\n",
    "        display(f[i])\n",
    "        print(\"=\")\n",
    "        if i == 0:\n",
    "            ans = ans + C(f1,i)*T(i,x)\n",
    "            display(ans)\n",
    "        else:\n",
    "            for j in range(i+1):\n",
    "                ans = ans + C(f1,j)*T(j,x)\n",
    "            display(ans)        \n",
    "    "
   ]
  },
  {
   "cell_type": "code",
   "execution_count": 28,
   "id": "d481d7de",
   "metadata": {},
   "outputs": [],
   "source": [
    "def ChebyshevUse(f1,n):\n",
    "    \n",
    "    ans = 0\n",
    "    for j in range(n,-1,-1):\n",
    "        ans = ans + C(f1,j)*T(j,x)\n",
    "        \n",
    "    return ans"
   ]
  },
  {
   "cell_type": "code",
   "execution_count": 9,
   "id": "1d047448",
   "metadata": {},
   "outputs": [
    {
     "data": {
      "image/png": "[encoded data removed]",
      "text/latex": [
       "$\\displaystyle 1.26607$"
      ],
      "text/plain": [
       "1.26607"
      ]
     },
     "execution_count": 9,
     "metadata": {},
     "output_type": "execute_result"
    }
   ],
   "source": [
    "ChebyshevUse(func,0)"
   ]
  },
  {
   "cell_type": "code",
   "execution_count": null,
   "id": "92346dca",
   "metadata": {},
   "outputs": [],
   "source": [
    "\n",
    "\n",
    "# ry25 = []\n",
    "# ry25.extend([-func(-1)+Y2(func,10,-1),-func(-0.5)+Y2(func,10,-0.5),-func(0)+Y2(func,10,0),-func(0.5)+Y2(func,10,0.5),-func(1)+Y2(func,10,1)])"
   ]
  },
  {
   "cell_type": "code",
   "execution_count": 30,
   "id": "16e11cf3",
   "metadata": {},
   "outputs": [],
   "source": [
    "import numpy as np\n",
    "import numpy as np\n",
    "from scipy.interpolate import make_interp_spline\n",
    "import matplotlib.pyplot as plt\n"
   ]
  },
  {
   "cell_type": "code",
   "execution_count": 35,
   "id": "d924149d",
   "metadata": {},
   "outputs": [],
   "source": [
    "xx = np.array([-1,-0.5,0,0.5,1]) \n",
    "yy = []\n",
    "yy.extend([func(-1), func(-0.5),func(0),func(0.5), func(1)])\n",
    "yy = np.array(yy)\n",
    "#%%%%%%%%%%%%%%%%%%%%%%%%%%%%%%%%%%%%%%%%%%%%%%%%%%%%%%%%%%%%%%%%%%%%%%%%%%%%%%%%\n",
    "y2 = []\n",
    "y2.extend([Y2(func,0,-1),Y2(func,0,-0.5),Y2(func,0,0),Y2(func,0,0.5),Y2(func,0,1)])\n",
    "y2 = np.array(y2)\n",
    "#%%%%%%%%%%%%%%%%%%%%%%%%%%%%%%%%%%%%%%%%%%%%%%%%%%%%%%%%%%%%%%%%%%%%%%%%%%%%%%%%%"
   ]
  },
  {
   "cell_type": "code",
   "execution_count": 39,
   "id": "75a765bb",
   "metadata": {},
   "outputs": [],
   "source": [
    "y21 = []\n",
    "y21.extend([Y2(func,1,-1),Y2(func,1,-0.5),Y2(func,1,0),Y2(func,1,0.5),Y2(func,1,1)])\n",
    "y21 = np.array(y21)"
   ]
  },
  {
   "cell_type": "code",
   "execution_count": 45,
   "id": "2cb85474",
   "metadata": {},
   "outputs": [],
   "source": [
    "y23 = []\n",
    "y23.extend([Y2(func,3,-1),Y2(func,3,-0.5),Y2(func,3,0),Y2(func,3,0.5),Y2(func,3,1)])\n",
    "y23 = np.array(y23)"
   ]
  },
  {
   "cell_type": "code",
   "execution_count": 49,
   "id": "9c8e2159",
   "metadata": {},
   "outputs": [],
   "source": [
    "y25 = []\n",
    "y25.extend([Y2(func,5,-1),Y2(func,5,-0.5),Y2(func,5,0),Y2(func,5,0.5),Y2(func,5,1)])\n",
    "y25 = np.array(y25)"
   ]
  },
  {
   "cell_type": "code",
   "execution_count": 58,
   "id": "06f4a25f",
   "metadata": {},
   "outputs": [],
   "source": [
    "y210 = []\n",
    "y210.extend([Y2(func,10,-1),Y2(func,10,-0.5),Y2(func,10,0),Y2(func,10,0.5),Y2(func,10,1)])\n",
    "y210 = np.array(y210)"
   ]
  },
  {
   "cell_type": "code",
   "execution_count": 1,
   "id": "99458abb",
   "metadata": {},
   "outputs": [
    {
     "ename": "NameError",
     "evalue": "name 'make_interp_spline' is not defined",
     "output_type": "error",
     "traceback": [
      "\u001b[0;31m---------------------------------------------------------------------------\u001b[0m",
      "\u001b[0;31mNameError\u001b[0m                                 Traceback (most recent call last)",
      "\u001b[0;32m/tmp/ipykernel_7047/2607862335.py\u001b[0m in \u001b[0;36m<module>\u001b[0;34m\u001b[0m\n\u001b[1;32m      1\u001b[0m \u001b[0;31m# Dataset\u001b[0m\u001b[0;34m\u001b[0m\u001b[0;34m\u001b[0m\u001b[0m\n\u001b[0;32m----> 2\u001b[0;31m \u001b[0mX_Y_Spline\u001b[0m \u001b[0;34m=\u001b[0m \u001b[0mmake_interp_spline\u001b[0m\u001b[0;34m(\u001b[0m\u001b[0mxx\u001b[0m\u001b[0;34m,\u001b[0m \u001b[0myy\u001b[0m\u001b[0;34m)\u001b[0m\u001b[0;34m\u001b[0m\u001b[0;34m\u001b[0m\u001b[0m\n\u001b[0m\u001b[1;32m      3\u001b[0m \u001b[0mX1_Y1_Spline\u001b[0m \u001b[0;34m=\u001b[0m \u001b[0mmake_interp_spline\u001b[0m\u001b[0;34m(\u001b[0m\u001b[0mxx\u001b[0m\u001b[0;34m,\u001b[0m \u001b[0my2\u001b[0m\u001b[0;34m)\u001b[0m\u001b[0;34m\u001b[0m\u001b[0;34m\u001b[0m\u001b[0m\n\u001b[1;32m      4\u001b[0m \u001b[0mX11_Y11_Spline\u001b[0m \u001b[0;34m=\u001b[0m \u001b[0mmake_interp_spline\u001b[0m\u001b[0;34m(\u001b[0m\u001b[0mxx\u001b[0m\u001b[0;34m,\u001b[0m \u001b[0my21\u001b[0m\u001b[0;34m)\u001b[0m\u001b[0;34m\u001b[0m\u001b[0;34m\u001b[0m\u001b[0m\n\u001b[1;32m      5\u001b[0m \u001b[0mX13_Y13_Spline\u001b[0m \u001b[0;34m=\u001b[0m \u001b[0mmake_interp_spline\u001b[0m\u001b[0;34m(\u001b[0m\u001b[0mxx\u001b[0m\u001b[0;34m,\u001b[0m \u001b[0my23\u001b[0m\u001b[0;34m)\u001b[0m\u001b[0;34m\u001b[0m\u001b[0;34m\u001b[0m\u001b[0m\n",
      "\u001b[0;31mNameError\u001b[0m: name 'make_interp_spline' is not defined"
     ]
    }
   ],
   "source": [
    "# Dataset\n",
    "X_Y_Spline = make_interp_spline(xx, yy)\n",
    "X1_Y1_Spline = make_interp_spline(xx, y2)\n",
    "X11_Y11_Spline = make_interp_spline(xx, y21)\n",
    "X13_Y13_Spline = make_interp_spline(xx, y23)\n",
    "X15_Y15_Spline = make_interp_spline(xx, y25)\n",
    "X110_Y110_Spline = make_interp_spline(xx, y210)\n",
    "\n",
    "\n",
    "\n",
    "\n",
    "# Returns evenly spaced numbers\n",
    "# over a specified interval.\n",
    "X_ = np.linspace(xx.min(), xx.max(), 500)\n",
    "Y_ = X_Y_Spline(X_)\n",
    "\n",
    "X1_ = np.linspace(xx.min(), xx.max(), 500)\n",
    "Y1_ = X1_Y1_Spline(X1_)\n",
    "\n",
    "X11_ = np.linspace(xx.min(), xx.max(), 500)\n",
    "Y11_ = X11_Y11_Spline(X11_)\n",
    "\n",
    "X13_ = np.linspace(xx.min(), xx.max(), 500)\n",
    "Y13_ = X13_Y13_Spline(X13_)\n",
    "\n",
    "X15_ = np.linspace(xx.min(), xx.max(), 500)\n",
    "Y15_ = X15_Y15_Spline(X15_)\n",
    "\n",
    "X110_ = np.linspace(xx.min(), xx.max(), 500)\n",
    "Y110_ = X110_Y110_Spline(X110_)\n",
    " \n",
    "# Plotting the Graph\n",
    "plt.plot(X_, Y_,label='y=exp(x)')\n",
    "plt.plot(X1_, Y1_,label='y=f_0(x)')\n",
    "plt.plot(X11_, Y11_,label='y=f_1(x)')\n",
    "plt.plot(X13_, Y13_,label='y=f_3(x)')\n",
    "plt.plot(X15_, Y15_,label='y=f_5(x)')\n",
    "plt.plot(X110_, Y110_,label='y=f_10(x)')\n",
    "plt.title('Plot of exp(x) and Chebyshev approximation f_0(x)',fontsize=13)\n",
    "plt.xlabel(\"X\",fontsize=20)\n",
    "plt.ylabel(\"Y\",fontsize=20)\n",
    "leg = plt.legend(loc='upper center')\n",
    "\n",
    "plt.show()"
   ]
  },
  {
   "cell_type": "code",
   "execution_count": null,
   "id": "9684071e",
   "metadata": {},
   "outputs": [],
   "source": [
    "# ABSOLUTE ERROR F_0(x)\n",
    "\n",
    "ry2 = []\n",
    "ry2.extend([-func(-1)+Y2(func,0,-1),-func(-0.5)+Y2(func,0,-0.5),-func(0)+Y2(func,0,0),-func(0.5)+Y2(func,0,0.5),-func(1)+Y2(func,0,1)])\n",
    "ry2 = np.array(ry2)"
   ]
  },
  {
   "cell_type": "code",
   "execution_count": 41,
   "id": "f3537319",
   "metadata": {},
   "outputs": [],
   "source": [
    "# ERROR FOR F_1(X)\n",
    "ry21 = []\n",
    "ry21.extend([-func(-1)+Y2(func,1,-1),-func(-0.5)+Y2(func,1,-0.5),-func(0)+Y2(func,1,0),-func(0.5)+Y2(func,1,0.5),-func(1)+Y2(func,1,1)])\n",
    "ry21 = np.array(ry21)"
   ]
  },
  {
   "cell_type": "code",
   "execution_count": 53,
   "id": "8c3c7ed9",
   "metadata": {},
   "outputs": [],
   "source": [
    "#ERROR FOR F_3(x)\n",
    "ry23 = []\n",
    "ry23.extend([-func(-1)+Y2(func,3,-1),-func(-0.5)+Y2(func,3,-0.5),-func(0)+Y2(func,3,0),-func(0.5)+Y2(func,3,0.5),-func(1)+Y2(func,3,1)])\n",
    "ry23 = np.array(ry23)"
   ]
  },
  {
   "cell_type": "code",
   "execution_count": 54,
   "id": "e7efd482",
   "metadata": {},
   "outputs": [],
   "source": [
    "#ERROR FOR F_5(x)\n",
    "ry25 = []\n",
    "ry25.extend([-func(-1)+Y2(func,5,-1),-func(-0.5)+Y2(func,5,-0.5),-func(0)+Y2(func,5,0),-func(0.5)+Y2(func,5,0.5),-func(1)+Y2(func,5,1)])\n",
    "ry25 = np.array(ry25)"
   ]
  },
  {
   "cell_type": "code",
   "execution_count": null,
   "id": "da1a2bd1",
   "metadata": {},
   "outputs": [],
   "source": [
    "#ERROR FOR F_10(X)\n",
    "ry210 = []\n",
    "ry210.extend([-func(-1)+Y2(func,10,-1),-func(-0.5)+Y2(func,10,-0.5),-func(0)+Y2(func,10,0),-func(0.5)+Y2(func,10,0.5),-func(1)+Y2(func,10,1)])\n",
    "ry210 = np.array(ry210)"
   ]
  },
  {
   "cell_type": "code",
   "execution_count": null,
   "id": "2f9dfaf4",
   "metadata": {},
   "outputs": [],
   "source": [
    "X1_Y1_Spline = make_interp_spline(xx, ry2)\n",
    "X11_Y11_Spline = make_interp_spline(xx, ry21)\n",
    "X13_Y13_Spline = make_interp_spline(xx, ry23)\n",
    "X15_Y15_Spline = make_interp_spline(xx, ry25)\n",
    "X110_Y110_Spline = make_interp_spline(xx, ry210)\n",
    "\n",
    "# Returns evenly spaced numbers\n",
    "# over a specified interval.\n",
    "\n",
    "X1_ = np.linspace(xx.min(), xx.max(), 500)\n",
    "Y1_ = X1_Y1_Spline(X1_)\n",
    "\n",
    "X11_ = np.linspace(xx.min(), xx.max(), 500)\n",
    "Y11_ = X11_Y11_Spline(X11_)\n",
    "\n",
    "X13_ = np.linspace(xx.min(), xx.max(), 500)\n",
    "Y13_ = X13_Y13_Spline(X13_)\n",
    "\n",
    "X15_ = np.linspace(xx.min(), xx.max(), 500)\n",
    "Y15_ = X15_Y15_Spline(X15_)\n",
    "\n",
    "X110_ = np.linspace(xx.min(), xx.max(), 500)\n",
    "Y110_ = X15_Y15_Spline(X110)\n",
    " \n",
    "# Plotting the Graph\n",
    "plt.plot(X1_, Y1_,label='y=f_0(x)')\n",
    "plt.plot(X11_, Y11_,label='y=f_1(x)')\n",
    "plt.plot(X13_, Y13_,label='y=f_3(x)')\n",
    "plt.plot(X15_, Y15_,label='y=f_5(x)')\n",
    "plt.plot(X11_, Y110_,label='y=f_10(x)')\n",
    "plt.title('Absolute error',fontsize=13)\n",
    "plt.xlabel(\"X\",fontsize=20)\n",
    "plt.ylabel(\"Y\",fontsize=20)\n",
    "leg = plt.legend(loc='upper center')\n",
    "\n",
    "plt.show()"
   ]
  }
 ],
 "metadata": {
  "kernelspec": {
   "display_name": "Python 3 (ipykernel)",
   "language": "python",
   "name": "python3"
  },
  "language_info": {
   "codemirror_mode": {
    "name": "ipython",
    "version": 3
   },
   "file_extension": ".py",
   "mimetype": "text/x-python",
   "name": "python",
   "nbconvert_exporter": "python",
   "pygments_lexer": "ipython3",
   "version": "3.10.6"
  }
 },
 "nbformat": 4,
 "nbformat_minor": 5
}
