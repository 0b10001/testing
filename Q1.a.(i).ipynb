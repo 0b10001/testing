{
 "cells": [
  {
   "cell_type": "code",
   "execution_count": 2,
   "metadata": {},
   "outputs": [],
   "source": [
    "import scipy.integrate as integrate\n",
    "import scipy.integrate as quad\n",
    "from scipy.integrate import quad\n",
    "from numpy import sqrt, pi\n",
    "from sympy import *\n",
    "init_printing()\n",
    "from IPython.display import display"
   ]
  },
  {
   "cell_type": "code",
   "execution_count": 3,
   "metadata": {},
   "outputs": [],
   "source": [
    "x = symbols('x')\n",
    "func = lambda x: exp(x)"
   ]
  },
  {
   "cell_type": "code",
   "execution_count": 4,
   "metadata": {
    "scrolled": true
   },
   "outputs": [],
   "source": [
    "def T(n,x):\n",
    "    if(n == 0):\n",
    "        return 1\n",
    "    elif (n == 1):\n",
    "        return x\n",
    "    return 2*x *T(n-1,x) - T(n-2,x)"
   ]
  },
  {
   "cell_type": "code",
   "execution_count": 7,
   "metadata": {},
   "outputs": [],
   "source": [
    "def C(foo,n):\n",
    "    fun = func\n",
    "    if n == 0:\n",
    "        return integrate((1/pi)*fun(x)/(1-x**2)**0.5,(x,-1,1)).evalf(6)\n",
    "    else:\n",
    "        return integrate((2/pi)*fun(x)*T(n,x)/(1-x**2)**0.5,(x,-1,1)).evalf(6)"
   ]
  },
  {
   "cell_type": "code",
   "execution_count": 92,
   "metadata": {},
   "outputs": [
    {
     "data": {
      "image/png": "[encoded data removed]",
      "text/latex": [
       "$\\displaystyle 0.3926990816987124$"
      ],
      "text/plain": [
       "0.3926990816987124"
      ]
     },
     "execution_count": 92,
     "metadata": {},
     "output_type": "execute_result"
    }
   ],
   "source": [
    "quad(func,0,1)[0]\n"
   ]
  },
  {
   "cell_type": "code",
   "execution_count": 94,
   "metadata": {},
   "outputs": [],
   "source": [
    "def dis(f1,n):\n",
    "    f = IndexedBase(\"f\")\n",
    "    i = Idx('i')\n",
    "    ans = 0\n",
    "    display(f[n])\n",
    "    print(\"=\")\n",
    "    if n == 0:\n",
    "        ans = C(f1,n)*T(n,x)\n",
    "        display(ans)\n",
    "    else:\n",
    "        for j in range(n+1):\n",
    "            ans = ans + C(f1,j)*T(j,x)\n",
    "        display(ans)"
   ]
  },
  {
   "cell_type": "code",
   "execution_count": 81,
   "metadata": {},
   "outputs": [],
   "source": [
    "def Chebyshev(f1,n):\n",
    "    print('\\nn\\tCn\\n')\n",
    "    for i in range(n):\n",
    "        if(i == 0):\n",
    "            for j in range(11):\n",
    "                if(j == 1 or j == 3 or j == 5 or j == 10):\n",
    "                    print('%d\\t%0.12f\\n' %(j, C(f1,j)))\n",
    "\n",
    "        elif(i == 1 or i == 3 or i == 5 or i == 10):\n",
    "            if(i == 1):\n",
    "                dis(f1,1)\n",
    "            elif(i == 3):\n",
    "                dis(f1,3)\n",
    "            elif(i == 5):\n",
    "                dis(f1,5)\n",
    "            elif(i == 10):\n",
    "                dis(f1,10)\n",
    "                break            "
   ]
  },
  {
   "cell_type": "code",
   "execution_count": 82,
   "metadata": {},
   "outputs": [
    {
     "name": "stdout",
     "output_type": "stream",
     "text": [
      "\n",
      "n\tCn\n",
      "\n",
      "1\t1.130318164825\n",
      "\n",
      "3\t0.044336847961\n",
      "\n",
      "5\t0.000542926369\n",
      "\n",
      "10\t0.000000000551\n",
      "\n"
     ]
    },
    {
     "data": {
      "image/png": "[encoded data removed]",
      "text/latex": [
       "$\\displaystyle {f}_{1}$"
      ],
      "text/plain": [
       "f[1]"
      ]
     },
     "metadata": {},
     "output_type": "display_data"
    },
    {
     "name": "stdout",
     "output_type": "stream",
     "text": [
      "=\n"
     ]
    },
    {
     "data": {
      "image/png": "[encoded data removed]",
      "text/latex": [
       "$\\displaystyle 1.13032 x + 1.26607$"
      ],
      "text/plain": [
       "1.13032⋅x + 1.26607"
      ]
     },
     "metadata": {},
     "output_type": "display_data"
    },
    {
     "data": {
      "image/png": "[encoded data removed]",
      "text/latex": [
       "$\\displaystyle {f}_{3}$"
      ],
      "text/plain": [
       "f[3]"
      ]
     },
     "metadata": {},
     "output_type": "display_data"
    },
    {
     "name": "stdout",
     "output_type": "stream",
     "text": [
      "=\n"
     ]
    },
    {
     "data": {
      "image/png": "[encoded data removed]",
      "text/latex": [
       "$\\displaystyle 0.542991 x^{2} + 0.0886737 x \\left(2 x^{2} - 1\\right) + 1.08598 x + 0.99457$"
      ],
      "text/plain": [
       "          2               ⎛   2    ⎞                      \n",
       "0.542991⋅x  + 0.0886737⋅x⋅⎝2⋅x  - 1⎠ + 1.08598⋅x + 0.99457"
      ]
     },
     "metadata": {},
     "output_type": "display_data"
    },
    {
     "data": {
      "image/png": "[encoded data removed]",
      "text/latex": [
       "$\\displaystyle {f}_{5}$"
      ],
      "text/plain": [
       "f[5]"
      ]
     },
     "metadata": {},
     "output_type": "display_data"
    },
    {
     "name": "stdout",
     "output_type": "stream",
     "text": [
      "=\n"
     ]
    },
    {
     "data": {
      "image/png": "[encoded data removed]",
      "text/latex": [
       "$\\displaystyle 0.532042 x^{2} + 0.0875878 x \\left(2 x^{2} - 1\\right) + 0.0109485 x \\left(2 x \\left(2 x^{2} - 1\\right) - x\\right) + 0.00108585 x \\left(- 2 x^{2} + 2 x \\left(2 x \\left(2 x^{2} - 1\\right) - x\\right) + 1\\right) + 1.08652 x + 1.00004$"
      ],
      "text/plain": [
       "          2               ⎛   2    ⎞               ⎛    ⎛   2    ⎞    ⎞       \n",
       "0.532042⋅x  + 0.0875878⋅x⋅⎝2⋅x  - 1⎠ + 0.0109485⋅x⋅⎝2⋅x⋅⎝2⋅x  - 1⎠ - x⎠ + 0.00\n",
       "\n",
       "         ⎛     2       ⎛    ⎛   2    ⎞    ⎞    ⎞                      \n",
       "108585⋅x⋅⎝- 2⋅x  + 2⋅x⋅⎝2⋅x⋅⎝2⋅x  - 1⎠ - x⎠ + 1⎠ + 1.08652⋅x + 1.00004"
      ]
     },
     "metadata": {},
     "output_type": "display_data"
    },
    {
     "data": {
      "image/png": "[encoded data removed]",
      "text/latex": [
       "$\\displaystyle {f}_{10}$"
      ],
      "text/plain": [
       "f[10]"
      ]
     },
     "metadata": {},
     "output_type": "display_data"
    },
    {
     "name": "stdout",
     "output_type": "stream",
     "text": [
      "=\n"
     ]
    },
    {
     "data": {
      "image/png": "[encoded data removed]",
      "text/latex": [
       "$\\displaystyle 0.532132 x^{2} + 0.0875942 x \\left(2 x^{2} - 1\\right) + 0.0108589 x \\left(2 x \\left(2 x^{2} - 1\\right) - x\\right) + 0.00107948 x \\left(- 2 x^{2} + 2 x \\left(2 x \\left(2 x^{2} - 1\\right) - x\\right) + 1\\right) + 8.95573 \\cdot 10^{-5} x \\left(- 2 x \\left(2 x^{2} - 1\\right) + 2 x \\left(- 2 x^{2} + 2 x \\left(2 x \\left(2 x^{2} - 1\\right) - x\\right) + 1\\right) + x\\right) + 6.3748 \\cdot 10^{-6} x \\left(2 x^{2} - 2 x \\left(2 x \\left(2 x^{2} - 1\\right) - x\\right) + 2 x \\left(- 2 x \\left(2 x^{2} - 1\\right) + 2 x \\left(- 2 x^{2} + 2 x \\left(2 x \\left(2 x^{2} - 1\\right) - x\\right) + 1\\right) + x\\right) - 1\\right) + 3.97324 \\cdot 10^{-7} x \\left(2 x \\left(2 x^{2} - 1\\right) - 2 x \\left(- 2 x^{2} + 2 x \\left(2 x \\left(2 x^{2} - 1\\right) - x\\right) + 1\\right) + 2 x \\left(2 x^{2} - 2 x \\left(2 x \\left(2 x^{2} - 1\\right) - x\\right) + 2 x \\left(- 2 x \\left(2 x^{2} - 1\\right) + 2 x \\left(- 2 x^{2} + 2 x \\left(2 x \\left(2 x^{2} - 1\\right) - x\\right) + 1\\right) + x\\right) - 1\\right) - x\\right) + 2.20735 \\cdot 10^{-8} x \\left(- 2 x^{2} + 2 x \\left(2 x \\left(2 x^{2} - 1\\right) - x\\right) - 2 x \\left(- 2 x \\left(2 x^{2} - 1\\right) + 2 x \\left(- 2 x^{2} + 2 x \\left(2 x \\left(2 x^{2} - 1\\right) - x\\right) + 1\\right) + x\\right) + 2 x \\left(2 x \\left(2 x^{2} - 1\\right) - 2 x \\left(- 2 x^{2} + 2 x \\left(2 x \\left(2 x^{2} - 1\\right) - x\\right) + 1\\right) + 2 x \\left(2 x^{2} - 2 x \\left(2 x \\left(2 x^{2} - 1\\right) - x\\right) + 2 x \\left(- 2 x \\left(2 x^{2} - 1\\right) + 2 x \\left(- 2 x^{2} + 2 x \\left(2 x \\left(2 x^{2} - 1\\right) - x\\right) + 1\\right) + x\\right) - 1\\right) - x\\right) + 1\\right) + 1.10118 \\cdot 10^{-9} x \\left(- 2 x \\left(2 x^{2} - 1\\right) + 2 x \\left(- 2 x^{2} + 2 x \\left(2 x \\left(2 x^{2} - 1\\right) - x\\right) + 1\\right) - 2 x \\left(2 x^{2} - 2 x \\left(2 x \\left(2 x^{2} - 1\\right) - x\\right) + 2 x \\left(- 2 x \\left(2 x^{2} - 1\\right) + 2 x \\left(- 2 x^{2} + 2 x \\left(2 x \\left(2 x^{2} - 1\\right) - x\\right) + 1\\right) + x\\right) - 1\\right) + 2 x \\left(- 2 x^{2} + 2 x \\left(2 x \\left(2 x^{2} - 1\\right) - x\\right) - 2 x \\left(- 2 x \\left(2 x^{2} - 1\\right) + 2 x \\left(- 2 x^{2} + 2 x \\left(2 x \\left(2 x^{2} - 1\\right) - x\\right) + 1\\right) + x\\right) + 2 x \\left(2 x \\left(2 x^{2} - 1\\right) - 2 x \\left(- 2 x^{2} + 2 x \\left(2 x \\left(2 x^{2} - 1\\right) - x\\right) + 1\\right) + 2 x \\left(2 x^{2} - 2 x \\left(2 x \\left(2 x^{2} - 1\\right) - x\\right) + 2 x \\left(- 2 x \\left(2 x^{2} - 1\\right) + 2 x \\left(- 2 x^{2} + 2 x \\left(2 x \\left(2 x^{2} - 1\\right) - x\\right) + 1\\right) + x\\right) - 1\\right) - x\\right) + 1\\right) + x\\right) + 1.08652 x + 1.0$"
      ],
      "text/plain": [
       "          2               ⎛   2    ⎞               ⎛    ⎛   2    ⎞    ⎞       \n",
       "0.532132⋅x  + 0.0875942⋅x⋅⎝2⋅x  - 1⎠ + 0.0108589⋅x⋅⎝2⋅x⋅⎝2⋅x  - 1⎠ - x⎠ + 0.00\n",
       "\n",
       "         ⎛     2       ⎛    ⎛   2    ⎞    ⎞    ⎞                ⎛      ⎛   2  \n",
       "107948⋅x⋅⎝- 2⋅x  + 2⋅x⋅⎝2⋅x⋅⎝2⋅x  - 1⎠ - x⎠ + 1⎠ + 8.95573e-5⋅x⋅⎝- 2⋅x⋅⎝2⋅x  -\n",
       "\n",
       "  ⎞       ⎛     2       ⎛    ⎛   2    ⎞    ⎞    ⎞    ⎞               ⎛   2    \n",
       " 1⎠ + 2⋅x⋅⎝- 2⋅x  + 2⋅x⋅⎝2⋅x⋅⎝2⋅x  - 1⎠ - x⎠ + 1⎠ + x⎠ + 6.3748e-6⋅x⋅⎝2⋅x  - 2\n",
       "\n",
       "   ⎛    ⎛   2    ⎞    ⎞       ⎛      ⎛   2    ⎞       ⎛     2       ⎛    ⎛   2\n",
       "⋅x⋅⎝2⋅x⋅⎝2⋅x  - 1⎠ - x⎠ + 2⋅x⋅⎝- 2⋅x⋅⎝2⋅x  - 1⎠ + 2⋅x⋅⎝- 2⋅x  + 2⋅x⋅⎝2⋅x⋅⎝2⋅x \n",
       "\n",
       "    ⎞    ⎞    ⎞    ⎞    ⎞                ⎛    ⎛   2    ⎞       ⎛     2       ⎛\n",
       " - 1⎠ - x⎠ + 1⎠ + x⎠ - 1⎠ + 3.97324e-7⋅x⋅⎝2⋅x⋅⎝2⋅x  - 1⎠ - 2⋅x⋅⎝- 2⋅x  + 2⋅x⋅⎝\n",
       "\n",
       "    ⎛   2    ⎞    ⎞    ⎞       ⎛   2       ⎛    ⎛   2    ⎞    ⎞       ⎛      ⎛\n",
       "2⋅x⋅⎝2⋅x  - 1⎠ - x⎠ + 1⎠ + 2⋅x⋅⎝2⋅x  - 2⋅x⋅⎝2⋅x⋅⎝2⋅x  - 1⎠ - x⎠ + 2⋅x⋅⎝- 2⋅x⋅⎝\n",
       "\n",
       "   2    ⎞       ⎛     2       ⎛    ⎛   2    ⎞    ⎞    ⎞    ⎞    ⎞    ⎞        \n",
       "2⋅x  - 1⎠ + 2⋅x⋅⎝- 2⋅x  + 2⋅x⋅⎝2⋅x⋅⎝2⋅x  - 1⎠ - x⎠ + 1⎠ + x⎠ - 1⎠ - x⎠ + 2.207\n",
       "\n",
       "        ⎛     2       ⎛    ⎛   2    ⎞    ⎞       ⎛      ⎛   2    ⎞       ⎛    \n",
       "35e-8⋅x⋅⎝- 2⋅x  + 2⋅x⋅⎝2⋅x⋅⎝2⋅x  - 1⎠ - x⎠ - 2⋅x⋅⎝- 2⋅x⋅⎝2⋅x  - 1⎠ + 2⋅x⋅⎝- 2⋅\n",
       "\n",
       " 2       ⎛    ⎛   2    ⎞    ⎞    ⎞    ⎞       ⎛    ⎛   2    ⎞       ⎛     2   \n",
       "x  + 2⋅x⋅⎝2⋅x⋅⎝2⋅x  - 1⎠ - x⎠ + 1⎠ + x⎠ + 2⋅x⋅⎝2⋅x⋅⎝2⋅x  - 1⎠ - 2⋅x⋅⎝- 2⋅x  + \n",
       "\n",
       "    ⎛    ⎛   2    ⎞    ⎞    ⎞       ⎛   2       ⎛    ⎛   2    ⎞    ⎞       ⎛  \n",
       "2⋅x⋅⎝2⋅x⋅⎝2⋅x  - 1⎠ - x⎠ + 1⎠ + 2⋅x⋅⎝2⋅x  - 2⋅x⋅⎝2⋅x⋅⎝2⋅x  - 1⎠ - x⎠ + 2⋅x⋅⎝- \n",
       "\n",
       "    ⎛   2    ⎞       ⎛     2       ⎛    ⎛   2    ⎞    ⎞    ⎞    ⎞    ⎞    ⎞   \n",
       "2⋅x⋅⎝2⋅x  - 1⎠ + 2⋅x⋅⎝- 2⋅x  + 2⋅x⋅⎝2⋅x⋅⎝2⋅x  - 1⎠ - x⎠ + 1⎠ + x⎠ - 1⎠ - x⎠ + \n",
       "\n",
       " ⎞                ⎛      ⎛   2    ⎞       ⎛     2       ⎛    ⎛   2    ⎞    ⎞  \n",
       "1⎠ + 1.10118e-9⋅x⋅⎝- 2⋅x⋅⎝2⋅x  - 1⎠ + 2⋅x⋅⎝- 2⋅x  + 2⋅x⋅⎝2⋅x⋅⎝2⋅x  - 1⎠ - x⎠ +\n",
       "\n",
       "  ⎞       ⎛   2       ⎛    ⎛   2    ⎞    ⎞       ⎛      ⎛   2    ⎞       ⎛    \n",
       " 1⎠ - 2⋅x⋅⎝2⋅x  - 2⋅x⋅⎝2⋅x⋅⎝2⋅x  - 1⎠ - x⎠ + 2⋅x⋅⎝- 2⋅x⋅⎝2⋅x  - 1⎠ + 2⋅x⋅⎝- 2⋅\n",
       "\n",
       " 2       ⎛    ⎛   2    ⎞    ⎞    ⎞    ⎞    ⎞       ⎛     2       ⎛    ⎛   2   \n",
       "x  + 2⋅x⋅⎝2⋅x⋅⎝2⋅x  - 1⎠ - x⎠ + 1⎠ + x⎠ - 1⎠ + 2⋅x⋅⎝- 2⋅x  + 2⋅x⋅⎝2⋅x⋅⎝2⋅x  - \n",
       "\n",
       " ⎞    ⎞       ⎛      ⎛   2    ⎞       ⎛     2       ⎛    ⎛   2    ⎞    ⎞    ⎞ \n",
       "1⎠ - x⎠ - 2⋅x⋅⎝- 2⋅x⋅⎝2⋅x  - 1⎠ + 2⋅x⋅⎝- 2⋅x  + 2⋅x⋅⎝2⋅x⋅⎝2⋅x  - 1⎠ - x⎠ + 1⎠ \n",
       "\n",
       "   ⎞       ⎛    ⎛   2    ⎞       ⎛     2       ⎛    ⎛   2    ⎞    ⎞    ⎞      \n",
       "+ x⎠ + 2⋅x⋅⎝2⋅x⋅⎝2⋅x  - 1⎠ - 2⋅x⋅⎝- 2⋅x  + 2⋅x⋅⎝2⋅x⋅⎝2⋅x  - 1⎠ - x⎠ + 1⎠ + 2⋅x\n",
       "\n",
       " ⎛   2       ⎛    ⎛   2    ⎞    ⎞       ⎛      ⎛   2    ⎞       ⎛     2       \n",
       "⋅⎝2⋅x  - 2⋅x⋅⎝2⋅x⋅⎝2⋅x  - 1⎠ - x⎠ + 2⋅x⋅⎝- 2⋅x⋅⎝2⋅x  - 1⎠ + 2⋅x⋅⎝- 2⋅x  + 2⋅x⋅\n",
       "\n",
       "⎛    ⎛   2    ⎞    ⎞    ⎞    ⎞    ⎞    ⎞    ⎞    ⎞                  \n",
       "⎝2⋅x⋅⎝2⋅x  - 1⎠ - x⎠ + 1⎠ + x⎠ - 1⎠ - x⎠ + 1⎠ + x⎠ + 1.08652⋅x + 1.0"
      ]
     },
     "metadata": {},
     "output_type": "display_data"
    }
   ],
   "source": [
    "Chebyshev(func,11)"
   ]
  },
  {
   "cell_type": "code",
   "execution_count": 8,
   "metadata": {},
   "outputs": [],
   "source": [
    "def ChebyshevUse(f1,n):\n",
    "    \n",
    "    ans = 0\n",
    "    for j in range(n,-1,-1):\n",
    "        ans = ans + C(f1,j)*T(j,x)\n",
    "        \n",
    "    return ans"
   ]
  },
  {
   "cell_type": "code",
   "execution_count": 56,
   "metadata": {},
   "outputs": [],
   "source": [
    "def Y2(f1,ind,xv):\n",
    "    expr = ChebyshevUse(f1,ind)\n",
    "    return expr.subs(x,xv)"
   ]
  },
  {
   "cell_type": "code",
   "execution_count": 11,
   "metadata": {},
   "outputs": [],
   "source": [
    "import numpy as np\n",
    "import numpy as np\n",
    "from scipy.interpolate import make_interp_spline\n",
    "import matplotlib.pyplot as plt\n"
   ]
  },
  {
   "cell_type": "code",
   "execution_count": 12,
   "metadata": {},
   "outputs": [],
   "source": [
    "Y110_ = X110_Y110_Spline(X110_)\n",
    "xx = np.array([-1,-0.5,0,0.5,1]) \n",
    "yy = []\n",
    "yy.extend([func(-1), func(-0.5),func(0),func(0.5), func(1)])\n",
    "yy = np.array(yy)\n",
    "#%%%%%%%%%%%%%%%%%%%%%%%%%%%%%%%%%%%%%%%%%%%%%%%%%%%%%%%%%%%%%%%%%%%%%%%%%%%%%%%%\n",
    "y2 = []\n",
    "y2.extend([Y2(func,0,-1),Y2(func,0,-0.5),Y2(func,0,0),Y2(func,0,0.5),Y2(func,0,1)])\n",
    "y2 = np.array(y2)\n",
    "#%%%%%%%%%%%%%%%%%%%%%%%%%%%%%%%%%%%%%%%%%%%%%%%%%%%%%%%%%%%%%%%%%%%%%%%%%%%%%%%%%"
   ]
  },
  {
   "cell_type": "code",
   "execution_count": 13,
   "metadata": {},
   "outputs": [],
   "source": [
    "y21 = []\n",
    "y21.extend([Y2(func,1,-1),Y2(func,1,-0.5),Y2(func,1,0),Y2(func,1,0.5),Y2(func,1,1)])\n",
    "y21 = np.array(y21)"
   ]
  },
  {
   "cell_type": "code",
   "execution_count": 14,
   "metadata": {},
   "outputs": [],
   "source": [
    "y23 = []\n",
    "y23.extend([Y2(func,3,-1),Y2(func,3,-0.5),Y2(func,3,0),Y2(func,3,0.5),Y2(func,3,1)])\n",
    "y23 = np.array(y23)"
   ]
  },
  {
   "cell_type": "code",
   "execution_count": 15,
   "metadata": {},
   "outputs": [],
   "source": [
    "y25 = []\n",
    "y25.extend([Y2(func,5,-1),Y2(func,5,-0.5),Y2(func,5,0),Y2(func,5,0.5),Y2(func,5,1)])\n",
    "y25 = np.array(y25)"
   ]
  },
  {
   "cell_type": "code",
   "execution_count": 16,
   "metadata": {},
   "outputs": [],
   "source": [
    "y210 = []\n",
    "y210.extend([Y2(func,10,-1),Y2(func,10,-0.5),Y2(func,10,0),Y2(func,10,0.5),Y2(func,10,1)])\n",
    "y210 = np.array(y210)"
   ]
  },
  {
   "cell_type": "code",
   "execution_count": 50,
   "metadata": {},
   "outputs": [
    {
     "data": {
      "image/png": "[encoded data removed]",
      "text/plain": [
       "<Figure size 432x288 with 4 Axes>"
      ]
     },
     "metadata": {
      "needs_background": "light"
     },
     "output_type": "display_data"
    }
   ],
   "source": [
    "# Dataset\n",
    "X_Y_Spline = make_interp_spline(xx, yy)\n",
    "X1_Y1_Spline = make_interp_spline(xx, y2)\n",
    "X11_Y11_Spline = make_interp_spline(xx, y21)\n",
    "X13_Y13_Spline = make_interp_spline(xx, y23)\n",
    "X15_Y15_Spline = make_interp_spline(xx, y25)\n",
    "X110_Y110_Spline = make_interp_spline(xx, y210)\n",
    "\n",
    "\n",
    "\n",
    "\n",
    "# Returns evenly spaced numbers\n",
    "# over a specified interval.\n",
    "X_ = np.linspace(xx.min(), xx.max(), 500)\n",
    "Y_ = X_Y_Spline(X_)\n",
    "\n",
    "X1_ = np.linspace(xx.min(), xx.max(), 500)\n",
    "Y1_ = X1_Y1_Spline(X1_)\n",
    "\n",
    "X11_ = np.linspace(xx.min(), xx.max(), 500)\n",
    "Y11_ = X11_Y11_Spline(X11_)\n",
    "\n",
    "X13_ = np.linspace(xx.min(), xx.max(), 500)\n",
    "Y13_ = X13_Y13_Spline(X13_)\n",
    "\n",
    "X15_ = np.linspace(xx.min(), xx.max(), 500)\n",
    "Y15_ = X15_Y15_Spline(X15_)\n",
    "\n",
    "X110_ = np.linspace(xx.min(), xx.max(), 500)\n",
    "Y110_ = X110_Y110_Spline(X110_)\n",
    "\n",
    "# Initialise the subplot function using number of rows and columns\n",
    "figure, axis = plt.subplots(2, 2)\n",
    " \n",
    "# Plotting the Graph\n",
    "axis[0, 0].plot(X_, Y_)\n",
    "axis[0, 0].set_title('f_1(x)')\n",
    "#plt.plot(X1_, Y1_,label='y=f_0(x)')\n",
    "axis[0, 0].plot(X11_, Y11_)\n",
    "\n",
    "axis[0, 1].plot(X_, Y_)\n",
    "axis[0, 1].plot(X13_, Y13_)\n",
    "axis[0, 1].set_title('y=f_3(x)')\n",
    "axis[1, 0].plot(X_,Y_)\n",
    "axis[1, 0].plot(X15_, Y15_)\n",
    "axis[1, 0].set_title('y=f_5(x)')\n",
    "\n",
    "axis[1, 1].plot(X_,Y_)\n",
    "axis[1, 1].plot(X110_, Y110_)\n",
    "axis[1, 1].set_title('y=f_10(x)')\n",
    "\n",
    "plt.xlabel(\"X\",fontsize=10)\n",
    "plt.ylabel(\"Y\",fontsize=0)\n",
    "\n",
    "plt.subplots_adjust(left=0.1,\n",
    "                    bottom=0.1,\n",
    "                    right=0.9,\n",
    "                    top=0.9,\n",
    "                    wspace=0.4,\n",
    "                    hspace=0.4)\n",
    "plt.show()"
   ]
  },
  {
   "cell_type": "code",
   "execution_count": 18,
   "metadata": {},
   "outputs": [],
   "source": [
    "# ABSOLUTE ERROR F_0(x)\n",
    "\n",
    "ry2 = []\n",
    "ry2.extend([-func(-1)+Y2(func,0,-1),-func(-0.5)+Y2(func,0,-0.5),-func(0)+Y2(func,0,0),-func(0.5)+Y2(func,0,0.5),-func(1)+Y2(func,0,1)])\n",
    "ry2 = np.array(ry2)"
   ]
  },
  {
   "cell_type": "code",
   "execution_count": 19,
   "metadata": {},
   "outputs": [],
   "source": [
    "# ERROR FOR F_1(X)\n",
    "ry21 = []\n",
    "ry21.extend([-func(-1)+Y2(func,1,-1),-func(-0.5)+Y2(func,1,-0.5),-func(0)+Y2(func,1,0),-func(0.5)+Y2(func,1,0.5),-func(1)+Y2(func,1,1)])\n",
    "ry21 = np.array(ry21)"
   ]
  },
  {
   "cell_type": "code",
   "execution_count": 20,
   "metadata": {},
   "outputs": [],
   "source": [
    "#ERROR FOR F_3(x)\n",
    "def ChebyshevUse(f1,n):\n",
    "ry23 = []\n",
    "ry23.extend([-func(-1)+Y2(func,3,-1),-func(-0.5)+Y2(func,3,-0.5),-func(0)+Y2(func,3,0),-func(0.5)+Y2(func,3,0.5),-func(1)+Y2(func,3,1)])\n",
    "ry23 = np.array(ry23)"
   ]
  },
  {
   "cell_type": "code",
   "execution_count": 21,
   "metadata": {},
   "outputs": [],
   "source": [
    "#ERROR FOR F_5(x)\n",
    "ry25 = []\n",
    "ry25.extend([-func(-1)+Y2(func,5,-1),-func(-0.5)+Y2(func,5,-0.5),-func(0)+Y2(func,5,0),-func(0.5)+Y2(func,5,0.5),-func(1)+Y2(func,5,1)])\n",
    "ry25 = np.array(ry25)"
   ]
  },
  {
   "cell_type": "code",
   "execution_count": 22,
   "metadata": {},
   "outputs": [],
   "source": [
    "#ERROR FOR F_10(X)\n",
    "ry210 = []\n",
    "ry210.extend([-func(-1)+Y2(func,10,-1),-func(-0.5)+Y2(func,10,-0.5),-func(0)+Y2(func,10,0),-func(0.5)+Y2(func,10,0.5),-func(1)+Y2(func,10,1)])\n",
    "ry210 = np.array(ry210)"
   ]
  },
  {
   "cell_type": "code",
   "execution_count": 90,
   "metadata": {},
   "outputs": [
    {
     "data": {
      "image/png": "[encoded data removed]",
      "text/plain": [
       "<Figure size 432x288 with 4 Axes>"
      ]
     },
     "metadata": {
      "needs_background": "light"
     },
     "output_type": "display_data"
    }
   ],
   "source": [
    "X1_Y1_Spline = make_interp_spline(xx, ry2)\n",
    "X11_Y11_Spline = make_interp_spline(xx, ry21)\n",
    "X13_Y13_Spline = make_interp_spline(xx, ry23)\n",
    "X15_Y15_Spline = make_interp_spline(xx, ry25)\n",
    "X110_Y110_Spline = make_interp_spline(xx, ry210)\n",
    "\n",
    "# Returns evenly spaced numbers\n",
    "# over a specified interval.\n",
    "\n",
    "X1_ = np.linspace(xx.min(), xx.max(), 500)\n",
    "Y1_ = X1_Y1_Spline(X1_)\n",
    "\n",
    "X11_ = np.linspace(xx.min(), xx.max(), 500)\n",
    "Y11_ = X11_Y11_Spline(X11_)\n",
    "\n",
    "X13_ = np.linspace(xx.min(), xx.max(), 500)\n",
    "Y13_ = X13_Y13_Spline(X13_)\n",
    "\n",
    "X15_ = np.linspace(xx.min(), xx.max(), 500)\n",
    "Y15_ = X15_Y15_Spline(X15_)\n",
    "\n",
    "X110_ = np.linspace(xx.min(), xx.max(), 500)\n",
    "Y110_ = X110_Y110_Spline(X110_)\n",
    " \n",
    "# Plotting the Graph\n",
    "figure, axis = plt.subplots(2, 2)\n",
    " \n",
    "axis[0, 0].plot(X11_, Y11_)\n",
    "axis[0, 0].set_title('f_1(x): absolute error')\n",
    "#plt.plot(X1_, Y1_,label='y=f_0(x)')\n",
    "\n",
    "axis[0, 1].plot(X13_, Y13_)\n",
    "axis[0, 1].set_title('y=f_3(x): absolute error')\n",
    "\n",
    "axis[1, 0].plot(X15_, Y15_)\n",
    "axis[1, 0].set_title('y=f_5(x): absolute error')\n",
    "\n",
    "axis[1, 1].plot(X110_, Y110_)\n",
    "axis[1, 1].set_title('y=f_10(x): ab')\n",
    "axis[1,1].set_label('hj')\n",
    "\n",
    "plt.xlabel(\"X\",fontsize=10)\n",
    "plt.ylabel(\"Y\",fontsize=0)\n",
    "\n",
    "plt.subplots_adjust(left=0.1,\n",
    "                    bottom=0.1,\n",
    "                    right=0.9,\n",
    "                    top=0.9,\n",
    "                    wspace=0.4,\n",
    "                    hspace=0.4)\n",
    "plt.show()"
   ]
  }
 ],
 "metadata": {
  "kernelspec": {
   "display_name": "Python 3",
   "language": "python",
   "name": "python3"
  },
  "language_info": {
   "codemirror_mode": {
    "name": "ipython",
    "version": 3
   },
   "file_extension": ".py",
   "mimetype": "text/x-python",
   "name": "python",
   "nbconvert_exporter": "python",
   "pygments_lexer": "ipython3",
   "version": "3.8.10"
  }
 },
 "nbformat": 4,
 "nbformat_minor": 5
}
